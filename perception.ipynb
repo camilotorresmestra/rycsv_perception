{
  "nbformat": 4,
  "nbformat_minor": 0,
  "metadata": {
    "colab": {
      "name": "perception.ipynb",
      "provenance": [],
      "toc_visible": true,
      "mount_file_id": "1UUJVi2axUXovqtkfQiibi9idujHDwpzc",
      "authorship_tag": "ABX9TyMFjGT5/Ysicia9h2SIA9LH",
      "include_colab_link": true
    },
    "kernelspec": {
      "name": "python3",
      "display_name": "Python 3"
    }
  },
  "cells": [
    {
      "cell_type": "markdown",
      "metadata": {
        "id": "view-in-github",
        "colab_type": "text"
      },
      "source": [
        "<a href=\"https://colab.research.google.com/github/camilotorresmestra/rycsv_perception/blob/master/perception.ipynb\" target=\"_parent\"><img src=\"https://colab.research.google.com/assets/colab-badge.svg\" alt=\"Open In Colab\"/></a>"
      ]
    },
    {
      "cell_type": "code",
      "metadata": {
        "id": "gen5Jdp79C4W",
        "colab_type": "code",
        "colab": {}
      },
      "source": [
        "import cv2 as cv\n",
        "import numpy as np\n",
        "from matplotlib import pyplot as plt"
      ],
      "execution_count": 0,
      "outputs": []
    },
    {
      "cell_type": "markdown",
      "metadata": {
        "id": "CwSEKvdB9FV2",
        "colab_type": "text"
      },
      "source": [
        "# **Algoritmos de Filtrado Espacial**\n",
        "## Filtro Convolucional\n",
        "Basado en la presentación:"
      ]
    },
    {
      "cell_type": "code",
      "metadata": {
        "id": "eQ6Kmcbx-fPp",
        "colab_type": "code",
        "colab": {}
      },
      "source": [
        "img =cv.imread('example.png')"
      ],
      "execution_count": 0,
      "outputs": []
    },
    {
      "cell_type": "markdown",
      "metadata": {
        "id": "RlyMrUYU-US1",
        "colab_type": "text"
      },
      "source": [
        "# Algoritmos de Adelgazamiento"
      ]
    },
    {
      "cell_type": "code",
      "metadata": {
        "id": "_ARljKm3-ScM",
        "colab_type": "code",
        "colab": {}
      },
      "source": [
        ""
      ],
      "execution_count": 0,
      "outputs": []
    }
  ]
}